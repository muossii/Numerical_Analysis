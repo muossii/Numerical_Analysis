{
 "cells": [
  {
   "cell_type": "code",
   "execution_count": 1,
   "id": "initial_id",
   "metadata": {
    "collapsed": true,
    "ExecuteTime": {
     "end_time": "2025-02-04T14:37:47.477889800Z",
     "start_time": "2025-02-04T14:37:47.230541800Z"
    }
   },
   "outputs": [],
   "source": [
    "import numpy as np\n",
    "import scipy as sp"
   ]
  },
  {
   "cell_type": "code",
   "execution_count": 2,
   "outputs": [],
   "source": [
    "c = [-3,-5,-4]\n",
    "A = [[2, 3, 0], [3, 2, 2], [0, 4, 5]]\n",
    "b = [8, 15, 10]"
   ],
   "metadata": {
    "collapsed": false,
    "ExecuteTime": {
     "end_time": "2025-02-04T14:37:47.492315Z",
     "start_time": "2025-02-04T14:37:47.481912900Z"
    }
   },
   "id": "9ec8580c3af622e7"
  },
  {
   "cell_type": "code",
   "execution_count": 3,
   "outputs": [],
   "source": [
    "x0_bounds = (0, None)\n",
    "x1_bounds = (0, None)"
   ],
   "metadata": {
    "collapsed": false,
    "ExecuteTime": {
     "end_time": "2025-02-04T14:37:47.502643800Z",
     "start_time": "2025-02-04T14:37:47.492827100Z"
    }
   },
   "id": "a147fd17fb973ad5"
  },
  {
   "cell_type": "code",
   "execution_count": 4,
   "outputs": [
    {
     "name": "stdout",
     "output_type": "stream",
     "text": [
      "Optimization terminated successfully.\n",
      "         Current function value: -19.341463  \n",
      "         Iterations: 3\n",
      " message: Optimization terminated successfully.\n",
      " success: True\n",
      "  status: 0\n",
      "     fun: -19.341463414634145\n",
      "       x: [ 3.634e+00  2.439e-01  1.805e+00]\n",
      "     nit: 3\n"
     ]
    },
    {
     "name": "stderr",
     "output_type": "stream",
     "text": [
      "C:\\Users\\mosta\\AppData\\Local\\Temp\\ipykernel_21564\\1766313006.py:2: DeprecationWarning: `method='simplex'` is deprecated and will be removed in SciPy 1.11.0. Please use one of the HiGHS solvers (e.g. `method='highs'`) in new code.\n",
      "  res = linprog(c, A_ub=A, b_ub=b, method='simplex', options={\"disp\": True})\n"
     ]
    }
   ],
   "source": [
    "from scipy.optimize import linprog\n",
    "res = linprog(c, A_ub=A, b_ub=b, method='simplex', options={\"disp\": True})\n",
    "print(res)"
   ],
   "metadata": {
    "collapsed": false,
    "ExecuteTime": {
     "end_time": "2025-02-04T14:37:48.040139200Z",
     "start_time": "2025-02-04T14:37:47.502643800Z"
    }
   },
   "id": "459323b8e9ddf197"
  },
  {
   "cell_type": "code",
   "execution_count": 4,
   "outputs": [],
   "source": [],
   "metadata": {
    "collapsed": false,
    "ExecuteTime": {
     "end_time": "2025-02-04T14:37:48.053337400Z",
     "start_time": "2025-02-04T14:37:48.045971300Z"
    }
   },
   "id": "dd1ece04e54bbf4c"
  }
 ],
 "metadata": {
  "kernelspec": {
   "display_name": "Python 3",
   "language": "python",
   "name": "python3"
  },
  "language_info": {
   "codemirror_mode": {
    "name": "ipython",
    "version": 2
   },
   "file_extension": ".py",
   "mimetype": "text/x-python",
   "name": "python",
   "nbconvert_exporter": "python",
   "pygments_lexer": "ipython2",
   "version": "2.7.6"
  }
 },
 "nbformat": 4,
 "nbformat_minor": 5
}
