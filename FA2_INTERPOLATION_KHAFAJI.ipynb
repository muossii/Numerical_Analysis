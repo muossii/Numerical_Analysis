{
 "cells": [
  {
   "cell_type": "code",
   "execution_count": 1,
   "id": "initial_id",
   "metadata": {
    "collapsed": true,
    "ExecuteTime": {
     "end_time": "2025-03-03T15:29:45.127164500Z",
     "start_time": "2025-03-03T15:29:43.118728700Z"
    }
   },
   "outputs": [],
   "source": [
    "import numpy as np\n",
    "import polars as pl\n",
    "from sympy import *\n",
    "import scipy.interpolate as spi"
   ]
  },
  {
   "cell_type": "markdown",
   "source": [
    "## 1.\n",
    "\n",
    "Use Neville's Method algorithm to generate the table of approximations for Lagrange interpolating polynomials of degree one, two, and three to approximate $f(0.43)$\n",
    "\n",
    "if $f(0) = 1, f(0.25) = 1.64872, f(0.5) = 2.71828, \\text{ and } f(0.75) = 4.48169$"
   ],
   "metadata": {
    "collapsed": false
   },
   "id": "fc51a4c34af38d78"
  },
  {
   "cell_type": "code",
   "execution_count": 2,
   "outputs": [],
   "source": [
    "def nevilles(x, values):\n",
    "    \n",
    "    n = len(values[0])\n",
    "    \n",
    "    for col in range(1, n): # iteration for creation of columns\n",
    "        \n",
    "        temp_list = []\n",
    "        # temporary list\n",
    "        \n",
    "        for j in range(col, n): # iteration for getting j (larger n) \n",
    "            # j-col is the distance (for Q2, i is 1 below j, in Q3, i is 2 below j).\n",
    "            # j and i refers to x values.\n",
    "            i = j-col \n",
    "            \n",
    "            # j  and j-1 functions as indexes to the P(x) values.\n",
    "            # use the Neville's method formula\n",
    "            numerator = ((x-values[0][i])*values[col][j]) - ((x-values[0][j])*values[col][j-1])\n",
    "            p = numerator/(values[0][j] - values[0][i])\n",
    "            \n",
    "            # append result to temp list\n",
    "            temp_list.append(p)\n",
    "            \n",
    "        # append np.nan multiple times to the left in temporary list\n",
    "        temp_list = [np.nan]*col + temp_list\n",
    "        \n",
    "        # append temp list to values\n",
    "        values = np.append(values, [temp_list], axis=0)\n",
    "    \n",
    "    # create list of column names\n",
    "    column_names = [\"x\"] + [f\"Q{n}\" for n in range(values.shape[0]-1)]\n",
    "    \n",
    "    # turn rows into columns\n",
    "    values_T = np.transpose(values)\n",
    "    \n",
    "    return  pl.DataFrame(values_T, schema=column_names)"
   ],
   "metadata": {
    "collapsed": false,
    "ExecuteTime": {
     "end_time": "2025-03-03T15:29:45.137543700Z",
     "start_time": "2025-03-03T15:29:45.128161700Z"
    }
   },
   "id": "c98c7f2fc92d0699"
  },
  {
   "cell_type": "code",
   "execution_count": 3,
   "outputs": [],
   "source": [
    "given_values = np.array([\n",
    "    [0, 0.25, 0.5, 0.75],\n",
    "    [1, 1.64872, 2.71828, 4.48169]\n",
    "])\n",
    "\n",
    "x = 0.43"
   ],
   "metadata": {
    "collapsed": false,
    "ExecuteTime": {
     "end_time": "2025-03-03T15:29:45.148922900Z",
     "start_time": "2025-03-03T15:29:45.141482500Z"
    }
   },
   "id": "65e9d520cbbbdfdc"
  },
  {
   "cell_type": "code",
   "execution_count": 4,
   "outputs": [
    {
     "data": {
      "text/plain": "shape: (4, 5)\n┌──────┬─────────┬───────────┬──────────┬──────────┐\n│ x    ┆ Q0      ┆ Q1        ┆ Q2       ┆ Q3       │\n│ ---  ┆ ---     ┆ ---       ┆ ---      ┆ ---      │\n│ f64  ┆ f64     ┆ f64       ┆ f64      ┆ f64      │\n╞══════╪═════════╪═══════════╪══════════╪══════════╡\n│ 0.0  ┆ 1.0     ┆ NaN       ┆ NaN      ┆ NaN      │\n│ 0.25 ┆ 1.64872 ┆ 2.1157984 ┆ NaN      ┆ NaN      │\n│ 0.5  ┆ 2.71828 ┆ 2.4188032 ┆ 2.376383 ┆ NaN      │\n│ 0.75 ┆ 4.48169 ┆ 2.224525  ┆ 2.348863 ┆ 2.360605 │\n└──────┴─────────┴───────────┴──────────┴──────────┘",
      "text/html": "<div><style>\n.dataframe > thead > tr,\n.dataframe > tbody > tr {\n  text-align: right;\n  white-space: pre-wrap;\n}\n</style>\n<small>shape: (4, 5)</small><table border=\"1\" class=\"dataframe\"><thead><tr><th>x</th><th>Q0</th><th>Q1</th><th>Q2</th><th>Q3</th></tr><tr><td>f64</td><td>f64</td><td>f64</td><td>f64</td><td>f64</td></tr></thead><tbody><tr><td>0.0</td><td>1.0</td><td>NaN</td><td>NaN</td><td>NaN</td></tr><tr><td>0.25</td><td>1.64872</td><td>2.1157984</td><td>NaN</td><td>NaN</td></tr><tr><td>0.5</td><td>2.71828</td><td>2.4188032</td><td>2.376383</td><td>NaN</td></tr><tr><td>0.75</td><td>4.48169</td><td>2.224525</td><td>2.348863</td><td>2.360605</td></tr></tbody></table></div>"
     },
     "execution_count": 4,
     "metadata": {},
     "output_type": "execute_result"
    }
   ],
   "source": [
    "nevilles(x, given_values)"
   ],
   "metadata": {
    "collapsed": false,
    "ExecuteTime": {
     "end_time": "2025-03-03T15:29:45.174896600Z",
     "start_time": "2025-03-03T15:29:45.151019600Z"
    }
   },
   "id": "f44479d7c97f98c"
  },
  {
   "cell_type": "markdown",
   "source": [
    "### Answer for 1\n",
    "\n",
    "$f(0.43) \\approx 2.360605$"
   ],
   "metadata": {
    "collapsed": false
   },
   "id": "79bfc824bd4fe6c3"
  },
  {
   "cell_type": "markdown",
   "source": [
    "## 2. \n",
    "\n",
    "Use the Newton Divided Differences Algorithm to construct the interpolating polynomials of degree three and approximate $f(8.4)$\n",
    "\n",
    "given $f(8.1) = 16.94410, f(8.3) = 17.56492, f(8.6) = 18.50515, \\text{ and } f(8.7) = 18.82091 $"
   ],
   "metadata": {
    "collapsed": false
   },
   "id": "91feaab5b017437c"
  },
  {
   "cell_type": "code",
   "execution_count": 5,
   "outputs": [],
   "source": [
    "given_values_divdiff = np.array([\n",
    "    [8.1, 8.3, 8.6, 8.7],\n",
    "    [16.94410, 17.56492, 18.50515, 18.82091]\n",
    "])\n",
    "\n",
    "x_divdiff = 8.4"
   ],
   "metadata": {
    "collapsed": false,
    "ExecuteTime": {
     "end_time": "2025-03-03T15:29:45.175893700Z",
     "start_time": "2025-03-03T15:29:45.169093400Z"
    }
   },
   "id": "9f3718dfd6b2191b"
  },
  {
   "cell_type": "code",
   "execution_count": 6,
   "outputs": [],
   "source": [
    "def newtonDivDiff(x, values):\n",
    "    \n",
    "    n = len(values[0])\n",
    "    \n",
    "    b_vals = [values[1][0]]\n",
    "    for col in range(1, n): # iteration for creation of columns\n",
    "        \n",
    "        temp_list = []\n",
    "        # temporary list\n",
    "        \n",
    "        for j in range(col, n): # iteration for getting j (larger n) \n",
    "            # j-col is the distance (for Q2, i is 1 below j, in Q3, i is 2 below j).\n",
    "            # j and i refers to x values.\n",
    "            i = j-col \n",
    "            \n",
    "            # j  and j-1 functions as indexes to the P(x) values.\n",
    "            # use the Newton's Divided Difference Method\n",
    "            numerator = values[col][j] - values[col][j-1]\n",
    "            p = numerator/(values[0][j] - values[0][i])\n",
    "            \n",
    "            # append result to temp list\n",
    "            temp_list.append(p)\n",
    "        \n",
    "        # append first value on retrieved values to our list of b values\n",
    "        # before we insert np.nan    \n",
    "        b_vals.append(temp_list[0])\n",
    "        \n",
    "        # append np.nan multiple times to the left in temporary list\n",
    "        temp_list = [np.nan]*col + temp_list\n",
    "        \n",
    "        # append temp list to values\n",
    "        values = np.append(values, [temp_list], axis=0)\n",
    "    \n",
    "    # creating dataframe\n",
    "    # create list of column names\n",
    "    column_names = [\"x\"] + [\"f(x)\"] + [f\"{n}th division\" for n in range(1,values.shape[0]-1)]\n",
    "    \n",
    "    # turn rows into columns\n",
    "    values_T = np.transpose(values)\n",
    "    \n",
    "    df = pl.DataFrame(values_T, schema=column_names)\n",
    "    \n",
    "    # create polynomial for approximation\n",
    "    \n",
    "    polynomial_sum = 0\n",
    "    for idx, b_value in enumerate(b_vals): # iterating through each b values retrieved\n",
    "        if idx == 0:\n",
    "            polynomial_sum = polynomial_sum + b_value\n",
    "        else:\n",
    "            temp_prod = b_value\n",
    "            for p in range(idx): # creating iterator through current index to iterate\n",
    "                temp_prod = temp_prod*(x-values[0][p])\n",
    "            polynomial_sum = polynomial_sum + temp_prod \n",
    "    \n",
    "    return df, polynomial_sum"
   ],
   "metadata": {
    "collapsed": false,
    "ExecuteTime": {
     "end_time": "2025-03-03T15:29:45.193616600Z",
     "start_time": "2025-03-03T15:29:45.179999100Z"
    }
   },
   "id": "7619c9d3891caca2"
  },
  {
   "cell_type": "code",
   "execution_count": 7,
   "outputs": [
    {
     "data": {
      "text/plain": "shape: (4, 5)\n┌─────┬──────────┬──────────────┬──────────────┬──────────────┐\n│ x   ┆ f(x)     ┆ 1th division ┆ 2th division ┆ 3th division │\n│ --- ┆ ---      ┆ ---          ┆ ---          ┆ ---          │\n│ f64 ┆ f64      ┆ f64          ┆ f64          ┆ f64          │\n╞═════╪══════════╪══════════════╪══════════════╪══════════════╡\n│ 8.1 ┆ 16.9441  ┆ NaN          ┆ NaN          ┆ NaN          │\n│ 8.3 ┆ 17.56492 ┆ 3.1041       ┆ NaN          ┆ NaN          │\n│ 8.6 ┆ 18.50515 ┆ 3.1341       ┆ 0.06         ┆ NaN          │\n│ 8.7 ┆ 18.82091 ┆ 3.1576       ┆ 0.05875      ┆ -0.002083    │\n└─────┴──────────┴──────────────┴──────────────┴──────────────┘",
      "text/html": "<div><style>\n.dataframe > thead > tr,\n.dataframe > tbody > tr {\n  text-align: right;\n  white-space: pre-wrap;\n}\n</style>\n<small>shape: (4, 5)</small><table border=\"1\" class=\"dataframe\"><thead><tr><th>x</th><th>f(x)</th><th>1th division</th><th>2th division</th><th>3th division</th></tr><tr><td>f64</td><td>f64</td><td>f64</td><td>f64</td><td>f64</td></tr></thead><tbody><tr><td>8.1</td><td>16.9441</td><td>NaN</td><td>NaN</td><td>NaN</td></tr><tr><td>8.3</td><td>17.56492</td><td>3.1041</td><td>NaN</td><td>NaN</td></tr><tr><td>8.6</td><td>18.50515</td><td>3.1341</td><td>0.06</td><td>NaN</td></tr><tr><td>8.7</td><td>18.82091</td><td>3.1576</td><td>0.05875</td><td>-0.002083</td></tr></tbody></table></div>"
     },
     "execution_count": 7,
     "metadata": {},
     "output_type": "execute_result"
    }
   ],
   "source": [
    "divdiff_df, divDiff_approx = newtonDivDiff(x_divdiff, given_values_divdiff)\n",
    "divdiff_df"
   ],
   "metadata": {
    "collapsed": false,
    "ExecuteTime": {
     "end_time": "2025-03-03T15:29:45.264747700Z",
     "start_time": "2025-03-03T15:29:45.195717800Z"
    }
   },
   "id": "aff941e4c76ee50c"
  },
  {
   "cell_type": "code",
   "execution_count": 8,
   "outputs": [
    {
     "name": "stdout",
     "output_type": "stream",
     "text": [
      "The approximation yielded by the formula for f(8.4) is: 17.877142499999998\n"
     ]
    }
   ],
   "source": [
    "print(f\"The approximation yielded by the formula for f({x_divdiff}) is: {divDiff_approx}\")"
   ],
   "metadata": {
    "collapsed": false,
    "ExecuteTime": {
     "end_time": "2025-03-03T15:29:45.265753600Z",
     "start_time": "2025-03-03T15:29:45.211234400Z"
    }
   },
   "id": "894b568bce373014"
  },
  {
   "cell_type": "markdown",
   "source": [
    "# Machine Exercise\n",
    "given \n",
    "$f(x)= xcos(x) -2x^2 +3x -1$\n",
    "\n",
    "and the data:"
   ],
   "metadata": {
    "collapsed": false
   },
   "id": "b13e41bee7f685be"
  },
  {
   "cell_type": "code",
   "execution_count": 9,
   "outputs": [
    {
     "data": {
      "text/plain": "shape: (4, 3)\n┌─────┬───────────┬──────────┐\n│ x   ┆ fx        ┆ f'x      │\n│ --- ┆ ---       ┆ ---      │\n│ f64 ┆ f64       ┆ f64      │\n╞═════╪═══════════╪══════════╡\n│ 0.1 ┆ -0.6205   ┆ 3.585021 │\n│ 0.2 ┆ -0.283987 ┆ 3.140333 │\n│ 0.3 ┆ 0.006601  ┆ 2.66668  │\n│ 0.4 ┆ 0.2484244 ┆ 2.165294 │\n└─────┴───────────┴──────────┘",
      "text/html": "<div><style>\n.dataframe > thead > tr,\n.dataframe > tbody > tr {\n  text-align: right;\n  white-space: pre-wrap;\n}\n</style>\n<small>shape: (4, 3)</small><table border=\"1\" class=\"dataframe\"><thead><tr><th>x</th><th>fx</th><th>f&#x27;x</th></tr><tr><td>f64</td><td>f64</td><td>f64</td></tr></thead><tbody><tr><td>0.1</td><td>-0.6205</td><td>3.585021</td></tr><tr><td>0.2</td><td>-0.283987</td><td>3.140333</td></tr><tr><td>0.3</td><td>0.006601</td><td>2.66668</td></tr><tr><td>0.4</td><td>0.2484244</td><td>2.165294</td></tr></tbody></table></div>"
     },
     "execution_count": 9,
     "metadata": {},
     "output_type": "execute_result"
    }
   ],
   "source": [
    "data_example_3 = {\n",
    "    \"x\" : [0.1, 0.2, 0.3, 0.4],\n",
    "    \"fx\" : [-0.62049958, -0.28398668, 0.00660095, 0.24842440],\n",
    "    \"f'x\" : [3.58502082, 3.14033271, 2.66668043, 2.16529366]\n",
    "}\n",
    "\n",
    "df_machine_excercise = pl.DataFrame(data_example_3)\n",
    "df_machine_excercise"
   ],
   "metadata": {
    "collapsed": false,
    "ExecuteTime": {
     "end_time": "2025-03-03T15:29:45.286690200Z",
     "start_time": "2025-03-03T15:29:45.220929Z"
    }
   },
   "id": "ca1e7283e32d5c11"
  },
  {
   "cell_type": "markdown",
   "source": [
    "## 3.\n",
    "\n",
    "Use Hermite Interpolation to construct an approximating polynomial to approximate $f(0.25)$ and find the absolute error. "
   ],
   "metadata": {
    "collapsed": false
   },
   "id": "378675b006854145"
  },
  {
   "cell_type": "code",
   "execution_count": 10,
   "outputs": [],
   "source": [
    "x = symbols('x')\n",
    "func_3 = x*cos(x) -2*(x**2) +3*x -1\n",
    "\n"
   ],
   "metadata": {
    "collapsed": false,
    "ExecuteTime": {
     "end_time": "2025-03-03T15:29:45.344896300Z",
     "start_time": "2025-03-03T15:29:45.230974600Z"
    }
   },
   "id": "cb99318648d889f7"
  },
  {
   "cell_type": "code",
   "execution_count": 11,
   "outputs": [],
   "source": [
    "def lagrange_range(x_s):\n",
    "    \n",
    "    x=symbols('x')\n",
    "    lagrange_list = []\n",
    "    lagrange_derivative_list = []\n",
    "    \n",
    "    for x_val in x_s:\n",
    "        usable_x = [xnot for xnot in x_s if xnot != x_val]\n",
    "        lag_expr = 1\n",
    "        for p in usable_x:\n",
    "            lag_expr = lag_expr * (x-p)/(x_val - p)\n",
    "        lagrange_list.append(lag_expr)\n",
    "        lagrange_derivative_list.append(diff(lag_expr, x))\n",
    "            \n",
    "    return lagrange_list, lagrange_derivative_list\n",
    "    "
   ],
   "metadata": {
    "collapsed": false,
    "ExecuteTime": {
     "end_time": "2025-03-03T15:29:45.346998800Z",
     "start_time": "2025-03-03T15:29:45.288700100Z"
    }
   },
   "id": "ab6e2a80c2d60e83"
  },
  {
   "cell_type": "code",
   "execution_count": 12,
   "outputs": [],
   "source": [
    "def hermite_approx(x_approx, x_s, fx_s, fpx_s):\n",
    "    \n",
    "    x = symbols('x')\n",
    "    lagrange_list, lagrange_derivative_list = lagrange_range(x_s)\n",
    "    \n",
    "    H_s = []\n",
    "    h_hat_s = []\n",
    "    \n",
    "    for x_val, lagra, diff_lagra in zip(x_s, lagrange_list, lagrange_derivative_list):\n",
    "        \n",
    "        # solve for hn\n",
    "        h = (1-2*(x-x_val)*diff_lagra.subs(x, x_val))*(lagra**2)\n",
    "        H_s.append(h)\n",
    "        \n",
    "        # solve for h hat n\n",
    "        h_hat = (x-x_val)*(lagra**2)\n",
    "        h_hat_s.append(h_hat)\n",
    "    \n",
    "    hermite_polynomial = 0\n",
    "    for fx, fpx, h, h_hat in zip(fx_s, fpx_s, H_s, h_hat_s):\n",
    "        hermite_polynomial = hermite_polynomial + fx*h + fpx*h_hat\n",
    "    \n",
    "    hermite_polynomial = simplify(hermite_polynomial)\n",
    "    print(\"The hermite polynomial is:\", hermite_polynomial, end=\"\\n\\n\")\n",
    "    \n",
    "    print(\"The approximation is:\", hermite_polynomial.subs(x, x_approx))\n",
    "    \n",
    "    return hermite_polynomial, hermite_polynomial.subs(x, x_approx)"
   ],
   "metadata": {
    "collapsed": false,
    "ExecuteTime": {
     "end_time": "2025-03-03T15:29:45.346998800Z",
     "start_time": "2025-03-03T15:29:45.299926900Z"
    }
   },
   "id": "ea6cebe30d82173"
  },
  {
   "cell_type": "code",
   "execution_count": 13,
   "outputs": [
    {
     "name": "stdout",
     "output_type": "stream",
     "text": [
      "The hermite polynomial is: 0.00296296301530674*x**7 - 0.00726851855870336*x**6 + 0.0466490743565373*x**5 - 0.00180268517578952*x**4 - 0.499630898146279*x**3 - 2.00004254629857*x**2 + 4.00000255777809*x - 1.00000005866667\n",
      "\n",
      "The approximation is: -0.132771890847391\n"
     ]
    }
   ],
   "source": [
    "polynomial, approximation = hermite_approx(\n",
    "    0.25,\n",
    "    data_example_3[\"x\"],\n",
    "    data_example_3[\"fx\"],\n",
    "    data_example_3[\"f'x\"]\n",
    ")"
   ],
   "metadata": {
    "collapsed": false,
    "ExecuteTime": {
     "end_time": "2025-03-03T15:29:46.101685100Z",
     "start_time": "2025-03-03T15:29:45.311712500Z"
    }
   },
   "id": "fc7d12412211e639"
  },
  {
   "cell_type": "code",
   "execution_count": 14,
   "outputs": [
    {
     "name": "stdout",
     "output_type": "stream",
     "text": [
      "The absolute error is: 3.72494743383633e-9\n"
     ]
    }
   ],
   "source": [
    "print(\"The absolute error is:\", abs(func_3.subs(x,0.25)-approximation))"
   ],
   "metadata": {
    "collapsed": false,
    "ExecuteTime": {
     "end_time": "2025-03-03T15:29:46.112696400Z",
     "start_time": "2025-03-03T15:29:46.098682500Z"
    }
   },
   "id": "189fa4c703a8038f"
  },
  {
   "cell_type": "markdown",
   "source": [
    "## 4.\n",
    "\n",
    "Construct the Natural cubic spline and approximate $f(0.25)$ and $f'(0.25)$ and find the absolute error."
   ],
   "metadata": {
    "collapsed": false
   },
   "id": "f442a1d19577a8f2"
  },
  {
   "cell_type": "code",
   "execution_count": 15,
   "outputs": [
    {
     "name": "stdout",
     "output_type": "stream",
     "text": [
      "The approximation of f(0.25) is -0.13159115625, and it's first derivative approximation is 2.908242058333334\n"
     ]
    }
   ],
   "source": [
    "x_vals = np.array(data_example_3[\"x\"])\n",
    "y_vals = np.array(data_example_3[\"fx\"])\n",
    "\n",
    "spline = spi.CubicSpline(x_vals, y_vals, bc_type='natural')\n",
    "\n",
    "x_target = 0.25\n",
    "f_approx = spline(x_target)\n",
    "f_prime_approx = spline.derivative()(x_target)\n",
    "\n",
    "print(f\"The approximation of f({x_target}) is {f_approx}, and it's first derivative approximation is {f_prime_approx}\")"
   ],
   "metadata": {
    "collapsed": false,
    "ExecuteTime": {
     "end_time": "2025-03-03T15:29:46.165727600Z",
     "start_time": "2025-03-03T15:29:46.108690100Z"
    }
   },
   "id": "fa0b70ace1bef88f"
  },
  {
   "cell_type": "code",
   "execution_count": 16,
   "outputs": [
    {
     "name": "stdout",
     "output_type": "stream",
     "text": [
      "The absolute error for the function approximation is 0.00118073832233881\n",
      "The absolute error for the derivative approximation is 3.03865258814701\n"
     ]
    }
   ],
   "source": [
    "print(f\"The absolute error for the function approximation is {abs(func_3.subs(x, x_target)-f_approx)}\")\n",
    "\n",
    "func_3_diff = diff(func_3)\n",
    "print(f\"The absolute error for the derivative approximation is {abs(func_3_diff.subs(x, x_target)-f_approx)}\")"
   ],
   "metadata": {
    "collapsed": false,
    "ExecuteTime": {
     "end_time": "2025-03-03T15:29:46.167738400Z",
     "start_time": "2025-03-03T15:29:46.121857400Z"
    }
   },
   "id": "38a63136b5e8686c"
  },
  {
   "cell_type": "markdown",
   "source": [
    "## 5.\n",
    "\n",
    "Construct the Clamped cubic spline and approximate $f(0.25)$ and $f'(0.25)$ and find the absolute error."
   ],
   "metadata": {
    "collapsed": false
   },
   "id": "f636b44e8cd266a7"
  },
  {
   "cell_type": "code",
   "execution_count": 17,
   "outputs": [],
   "source": [
    "y_prime_vals = np.array(data_example_3[\"f'x\"])\n",
    "\n",
    "# Construct Clamped Cubic Spline\n",
    "spline_clamped = spi.CubicSpline(\n",
    "    x_vals, y_vals, \n",
    "    bc_type=((1, y_prime_vals[0]), (1, y_prime_vals[-1])) \n",
    ")\n",
    "\n",
    "# Approximate f(0.25) and f'(0.25)\n",
    "x_target = 0.25\n",
    "f_approx = spline_clamped(x_target)\n",
    "f_prime_approx = spline_clamped.derivative()(x_target)\n",
    " "
   ],
   "metadata": {
    "collapsed": false,
    "ExecuteTime": {
     "end_time": "2025-03-03T15:29:46.167738400Z",
     "start_time": "2025-03-03T15:29:46.141595Z"
    }
   },
   "id": "750b98dacb4d4915"
  },
  {
   "cell_type": "code",
   "execution_count": 18,
   "outputs": [
    {
     "name": "stdout",
     "output_type": "stream",
     "text": [
      "The approximation of f(0.25) is -0.1327722135833333, and it's first derivative approximation is 2.9070627590000004\n"
     ]
    }
   ],
   "source": [
    "print(f\"The approximation of f({x_target}) is {f_approx}, and it's first derivative approximation is {f_prime_approx}\")"
   ],
   "metadata": {
    "collapsed": false,
    "ExecuteTime": {
     "end_time": "2025-03-03T15:29:46.169733500Z",
     "start_time": "2025-03-03T15:29:46.149104700Z"
    }
   },
   "id": "5723992b68515e1"
  },
  {
   "cell_type": "code",
   "execution_count": 19,
   "outputs": [
    {
     "name": "stdout",
     "output_type": "stream",
     "text": [
      "The absolute error for the function approximation is 3.19010994481728E-7\n",
      "The absolute error for the derivative approximation is 3.03983364548035\n"
     ]
    }
   ],
   "source": [
    "print(f\"The absolute error for the function approximation is {abs(func_3.subs(x, x_target)-f_approx)}\")\n",
    "\n",
    "func_3_diff = diff(func_3)\n",
    "print(f\"The absolute error for the derivative approximation is {abs(func_3_diff.subs(x, x_target)-f_approx)}\")"
   ],
   "metadata": {
    "collapsed": false,
    "ExecuteTime": {
     "end_time": "2025-03-03T15:29:46.172728200Z",
     "start_time": "2025-03-03T15:29:46.160630700Z"
    }
   },
   "id": "aa28c7d7056b687f"
  }
 ],
 "metadata": {
  "kernelspec": {
   "display_name": "Python 3",
   "language": "python",
   "name": "python3"
  },
  "language_info": {
   "codemirror_mode": {
    "name": "ipython",
    "version": 2
   },
   "file_extension": ".py",
   "mimetype": "text/x-python",
   "name": "python",
   "nbconvert_exporter": "python",
   "pygments_lexer": "ipython2",
   "version": "2.7.6"
  }
 },
 "nbformat": 4,
 "nbformat_minor": 5
}
