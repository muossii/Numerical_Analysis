{
 "cells": [
  {
   "cell_type": "code",
   "execution_count": 1,
   "id": "initial_id",
   "metadata": {
    "collapsed": true,
    "ExecuteTime": {
     "end_time": "2025-03-24T13:12:07.678361400Z",
     "start_time": "2025-03-24T13:12:05.474483100Z"
    }
   },
   "outputs": [],
   "source": [
    "import numpy as np\n",
    "import polars as pl\n",
    "from sympy import *\n",
    "import scipy.interpolate as spi\n",
    "import matplotlib.pyplot as plt"
   ]
  },
  {
   "cell_type": "markdown",
   "source": [
    "Construct a clamped cubic spline for the following data"
   ],
   "metadata": {
    "collapsed": false
   },
   "id": "1644fc396ce227c2"
  },
  {
   "cell_type": "code",
   "execution_count": 2,
   "outputs": [],
   "source": [
    "x_vals = [-1, -0.5, 0, 0.5]\n",
    "f_vals = [0.86199480, 0.95802009, 1.0986123, 1.2943767]\n",
    "f_prime_vals = [0.15536240, 0.23269654, 0.33333333, 0.45186776]"
   ],
   "metadata": {
    "collapsed": false,
    "ExecuteTime": {
     "end_time": "2025-03-24T13:12:07.689173400Z",
     "start_time": "2025-03-24T13:12:07.685187500Z"
    }
   },
   "id": "9b448e919ccd245b"
  },
  {
   "cell_type": "code",
   "execution_count": 3,
   "outputs": [
    {
     "data": {
      "text/plain": "shape: (4, 3)\n┌──────┬───────────┬───────────┐\n│ x    ┆ f(x)      ┆ f'(x)     │\n│ ---  ┆ ---       ┆ ---       │\n│ f64  ┆ f64       ┆ f64       │\n╞══════╪═══════════╪═══════════╡\n│ -1.0 ┆ 0.8619948 ┆ 0.1553624 │\n│ -0.5 ┆ 0.95802   ┆ 0.232697  │\n│ 0.0  ┆ 1.0986123 ┆ 0.333333  │\n│ 0.5  ┆ 1.2943767 ┆ 0.451868  │\n└──────┴───────────┴───────────┘",
      "text/html": "<div><style>\n.dataframe > thead > tr,\n.dataframe > tbody > tr {\n  text-align: right;\n  white-space: pre-wrap;\n}\n</style>\n<small>shape: (4, 3)</small><table border=\"1\" class=\"dataframe\"><thead><tr><th>x</th><th>f(x)</th><th>f&#x27;(x)</th></tr><tr><td>f64</td><td>f64</td><td>f64</td></tr></thead><tbody><tr><td>-1.0</td><td>0.8619948</td><td>0.1553624</td></tr><tr><td>-0.5</td><td>0.95802</td><td>0.232697</td></tr><tr><td>0.0</td><td>1.0986123</td><td>0.333333</td></tr><tr><td>0.5</td><td>1.2943767</td><td>0.451868</td></tr></tbody></table></div>"
     },
     "execution_count": 3,
     "metadata": {},
     "output_type": "execute_result"
    }
   ],
   "source": [
    "vals = {\"x\": x_vals, \"f(x)\": f_vals, \"f'(x)\": f_prime_vals}\n",
    "pl.DataFrame(vals, strict=False)"
   ],
   "metadata": {
    "collapsed": false,
    "ExecuteTime": {
     "end_time": "2025-03-24T13:12:07.718092200Z",
     "start_time": "2025-03-24T13:12:07.690216500Z"
    }
   },
   "id": "af92bec9d951ccb9"
  },
  {
   "cell_type": "code",
   "execution_count": 4,
   "outputs": [],
   "source": [
    "cs = spi.CubicSpline(x=x_vals, \n",
    "                     y=f_vals, \n",
    "                     bc_type=((1, f_prime_vals[0]), (1, f_prime_vals[-1]))\n",
    "                     )"
   ],
   "metadata": {
    "collapsed": false,
    "ExecuteTime": {
     "end_time": "2025-03-24T13:12:07.741072400Z",
     "start_time": "2025-03-24T13:12:07.714090300Z"
    }
   },
   "id": "7ba494719d2746a8"
  },
  {
   "cell_type": "code",
   "execution_count": 5,
   "outputs": [
    {
     "name": "stdout",
     "output_type": "stream",
     "text": [
      "S_0(x) = 0.8619948 + 0.1553624*(x - -1) + 0.06537407999999989*(x - -1)^2 + 0.0160045600000005*(x - -1)^3\n",
      "\n",
      "S_1(x) = 0.95802009 + 0.23273990000000028*(x - -0.5) + 0.08938092000000053*(x - -0.5)^2 + 0.015016239999998682*(x - -0.5)^3\n",
      "\n",
      "S_2(x) = 1.0986123 + 0.3333829999999998*(x - 0) + 0.11190527999999877*(x - 0)^2 + 0.008772640000001886*(x - 0)^3\n"
     ]
    }
   ],
   "source": [
    "a = cs.c[3, :]  \n",
    "b = cs.c[2, :]  \n",
    "c = cs.c[1, :]  \n",
    "d = cs.c[0, :]  \n",
    "\n",
    "for i in range(len(x_vals) - 1):\n",
    "    print(f\"S_{i}(x) = {a[i]} + {b[i]}*(x - {x_vals[i]}) + {c[i]}*(x - {x_vals[i]})^2 + {d[i]}*(x - {x_vals[i]})^3\")\n",
    "    print(\"\")\n"
   ],
   "metadata": {
    "collapsed": false,
    "ExecuteTime": {
     "end_time": "2025-03-24T13:12:07.813861100Z",
     "start_time": "2025-03-24T13:12:07.733553800Z"
    }
   },
   "id": "f2c11ecadcb87cdc"
  },
  {
   "cell_type": "code",
   "execution_count": 6,
   "outputs": [
    {
     "data": {
      "text/plain": "<Figure size 650x400 with 1 Axes>",
      "image/png": "[encoded data removed]"
     },
     "metadata": {},
     "output_type": "display_data"
    }
   ],
   "source": [
    "fig, ax = plt.subplots(figsize=(6.5, 4))\n",
    "\n",
    "x_plot_vals = np.linspace(-1, 0.5)\n",
    "ax.plot(x_vals, f_vals, 'o', label='data')\n",
    "ax.plot(x_plot_vals, cs(x_plot_vals), label=\"S\")\n",
    "ax.set_xlim(-1.5, 1)\n",
    "ax.legend(loc='lower right')\n",
    "plt.show()"
   ],
   "metadata": {
    "collapsed": false,
    "ExecuteTime": {
     "end_time": "2025-03-24T13:12:07.990717Z",
     "start_time": "2025-03-24T13:12:07.754635700Z"
    }
   },
   "id": "8b07f6481420d2cf"
  }
 ],
 "metadata": {
  "kernelspec": {
   "display_name": "Python 3",
   "language": "python",
   "name": "python3"
  },
  "language_info": {
   "codemirror_mode": {
    "name": "ipython",
    "version": 2
   },
   "file_extension": ".py",
   "mimetype": "text/x-python",
   "name": "python",
   "nbconvert_exporter": "python",
   "pygments_lexer": "ipython2",
   "version": "2.7.6"
  }
 },
 "nbformat": 4,
 "nbformat_minor": 5
}
