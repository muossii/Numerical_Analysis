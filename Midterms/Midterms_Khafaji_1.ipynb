{
 "cells": [
  {
   "cell_type": "code",
   "execution_count": 1,
   "id": "initial_id",
   "metadata": {
    "collapsed": true,
    "ExecuteTime": {
     "end_time": "2025-03-24T10:57:02.624044400Z",
     "start_time": "2025-03-24T10:56:59.770535200Z"
    }
   },
   "outputs": [],
   "source": [
    "import numpy as np\n",
    "import polars as pl\n",
    "from sympy import *\n",
    "import scipy.interpolate as spi\n",
    "import matplotlib.pyplot as plt"
   ]
  },
  {
   "cell_type": "markdown",
   "source": [
    "Using bisection method to find a solution in [0.1, 1] accurate to within $10^{-4}$ for $600x^4 -550x^3 + 200x^2 -20x -1 = 0$"
   ],
   "metadata": {
    "collapsed": false
   },
   "id": "656aa77c20648a40"
  },
  {
   "cell_type": "markdown",
   "source": [
    "let $a_n = 0.1, b_n=1$\n",
    "\n",
    "from the theorem:\n",
    "$$ |p-p_n| \\leq \\frac{b_n - a_n}{2^n}$$\n",
    "\n",
    "We can calculate n from:\n",
    "\n",
    "$$ \\frac{1 - 0.1}{2^n} < 10^{-4} $$\n",
    "$$ \\Rightarrow {2^{-n}} < \\frac{10^{-4}}{0.9} $$\n",
    "$$ \\Rightarrow -n = \\frac{-4 - \\log 0.9}{\\log 2}  $$\n",
    "\n",
    "Solving for how many iterations, or n, is needed to achieve an approximation with an error within $10^{-4}$ yields:\n",
    "\n"
   ],
   "metadata": {
    "collapsed": false
   },
   "id": "e0380b2de30c432a"
  },
  {
   "cell_type": "code",
   "execution_count": 2,
   "outputs": [
    {
     "name": "stdout",
     "output_type": "stream",
     "text": [
      "13.1357092861044\n"
     ]
    }
   ],
   "source": [
    "n_approx = -(-4 - np.log10(0.9))/np.log10(2)\n",
    "print(n_approx)"
   ],
   "metadata": {
    "collapsed": false,
    "ExecuteTime": {
     "end_time": "2025-03-24T10:57:02.639121900Z",
     "start_time": "2025-03-24T10:57:02.630563300Z"
    }
   },
   "id": "58d8cc5ffa754ccc"
  },
  {
   "cell_type": "markdown",
   "source": [
    "Which says that we'll need at least 14 iterations to get the accuracy we want from our approximation."
   ],
   "metadata": {
    "collapsed": false
   },
   "id": "4b766a1ceb660e61"
  },
  {
   "cell_type": "code",
   "execution_count": 3,
   "outputs": [],
   "source": [
    "iterations = 14\n",
    "an = 0.1\n",
    "bn = 1\n",
    "x = symbols('x')\n",
    "\n",
    "# $600x^4 -550x^3 + 200x^2 -20x -1 = 0$\n",
    "f = (600*(x**4))-(550*(x**3)) + (200*(x**2)) - (20*x) - 1\n"
   ],
   "metadata": {
    "collapsed": false,
    "ExecuteTime": {
     "end_time": "2025-03-24T10:57:02.708099800Z",
     "start_time": "2025-03-24T10:57:02.641640Z"
    }
   },
   "id": "76ad5b9671ccf862"
  },
  {
   "cell_type": "code",
   "execution_count": 4,
   "outputs": [],
   "source": [
    "def bisecting_iter_num1(n_iter, an, bn, func):\n",
    "    \n",
    "    # create dictionary to store iteration data\n",
    "    val_table_dict = {'n': [], 'an': [], 'bn': [], 'pn': [], \n",
    "                        'f(pn)': []}\n",
    "    \n",
    "    # starting loop\n",
    "    i = 0\n",
    "    \n",
    "    while i <= n_iter:\n",
    "        \n",
    "        \n",
    "        # setting n and pn for each iteration\n",
    "        n = i+1\n",
    "        pn = (an+bn)/2\n",
    "        \n",
    "        fpn = func.subs(x, pn)\n",
    "        \n",
    "        val_table_dict['n'].append(n)\n",
    "        val_table_dict['an'].append(an)\n",
    "        val_table_dict['bn'].append(bn)\n",
    "        val_table_dict['pn'].append(pn)\n",
    "        val_table_dict['f(pn)'].append(fpn)\n",
    "        \n",
    "        # break the loop if solution found earlier than expected:\n",
    "        \n",
    "        if fpn == 0:\n",
    "            break\n",
    "            \n",
    "        # compare signs\n",
    "        \n",
    "        fan = func.subs(x, an)\n",
    "        fbn = func.subs(x, bn)\n",
    "        \n",
    "        if (fan>0 and fpn>0) or (fan<0 and fpn<0):\n",
    "            an = pn\n",
    "        elif (fbn>0 and fpn>0) or (fbn<0 and fpn<0):\n",
    "            bn = pn\n",
    "        \n",
    "        i=i+1\n",
    "    \n",
    "    return val_table_dict\n"
   ],
   "metadata": {
    "collapsed": false,
    "ExecuteTime": {
     "end_time": "2025-03-24T10:57:02.725638500Z",
     "start_time": "2025-03-24T10:57:02.721631Z"
    }
   },
   "id": "610aceb71a60e27a"
  },
  {
   "cell_type": "code",
   "execution_count": 5,
   "outputs": [
    {
     "name": "stdout",
     "output_type": "stream",
     "text": [
      "shape: (15, 5)\n",
      "┌─────┬──────────┬──────────┬──────────┬───────────┐\n",
      "│ n   ┆ an       ┆ bn       ┆ pn       ┆ f(pn)     │\n",
      "│ --- ┆ ---      ┆ ---      ┆ ---      ┆ ---       │\n",
      "│ i64 ┆ f64      ┆ f64      ┆ f64      ┆ f64       │\n",
      "╞═════╪══════════╪══════════╪══════════╪═══════════╡\n",
      "│ 1   ┆ 0.1      ┆ 1.0      ┆ 0.55     ┆ 11.8975   │\n",
      "│ 2   ┆ 0.1      ┆ 0.55     ┆ 0.325    ┆ 1.438516  │\n",
      "│ 3   ┆ 0.1      ┆ 0.325    ┆ 0.2125   ┆ -0.272935 │\n",
      "│ 4   ┆ 0.2125   ┆ 0.325    ┆ 0.26875  ┆ 0.52433   │\n",
      "│ 5   ┆ 0.2125   ┆ 0.26875  ┆ 0.240625 ┆ 0.116296  │\n",
      "│ 6   ┆ 0.2125   ┆ 0.240625 ┆ 0.226563 ┆ -0.08051  │\n",
      "│ 7   ┆ 0.226563 ┆ 0.240625 ┆ 0.233594 ┆ 0.017347  │\n",
      "│ 8   ┆ 0.226563 ┆ 0.233594 ┆ 0.230078 ┆ -0.031717 │\n",
      "│ 9   ┆ 0.230078 ┆ 0.233594 ┆ 0.231836 ┆ -0.007219 │\n",
      "│ 10  ┆ 0.231836 ┆ 0.233594 ┆ 0.232715 ┆ 0.005056  │\n",
      "│ 11  ┆ 0.231836 ┆ 0.232715 ┆ 0.232275 ┆ -0.001083 │\n",
      "│ 12  ┆ 0.232275 ┆ 0.232715 ┆ 0.232495 ┆ 0.001986  │\n",
      "│ 13  ┆ 0.232275 ┆ 0.232495 ┆ 0.232385 ┆ 0.000451  │\n",
      "│ 14  ┆ 0.232275 ┆ 0.232385 ┆ 0.23233  ┆ -0.000316 │\n",
      "│ 15  ┆ 0.23233  ┆ 0.232385 ┆ 0.232358 ┆ 0.000067  │\n",
      "└─────┴──────────┴──────────┴──────────┴───────────┘\n"
     ]
    }
   ],
   "source": [
    "df_val_table = pl.DataFrame(bisecting_iter_num1(iterations, an, bn, f), strict=False)\n",
    "\n",
    "with pl.Config(tbl_rows = 15):\n",
    "    print(df_val_table)"
   ],
   "metadata": {
    "collapsed": false,
    "ExecuteTime": {
     "end_time": "2025-03-24T10:57:02.764121400Z",
     "start_time": "2025-03-24T10:57:02.728642500Z"
    }
   },
   "id": "42e1062197dcbce8"
  },
  {
   "cell_type": "markdown",
   "source": [
    "the Approximation $x = 0.232358$ yields the value 0.000067, which is within the desired accuracy."
   ],
   "metadata": {
    "collapsed": false
   },
   "id": "ce559068c42800c8"
  }
 ],
 "metadata": {
  "kernelspec": {
   "display_name": "Python 3",
   "language": "python",
   "name": "python3"
  },
  "language_info": {
   "codemirror_mode": {
    "name": "ipython",
    "version": 2
   },
   "file_extension": ".py",
   "mimetype": "text/x-python",
   "name": "python",
   "nbconvert_exporter": "python",
   "pygments_lexer": "ipython2",
   "version": "2.7.6"
  }
 },
 "nbformat": 4,
 "nbformat_minor": 5
}
