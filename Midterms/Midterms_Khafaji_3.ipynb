{
 "cells": [
  {
   "cell_type": "code",
   "execution_count": 1,
   "id": "initial_id",
   "metadata": {
    "collapsed": true,
    "ExecuteTime": {
     "end_time": "2025-03-24T13:32:16.344044700Z",
     "start_time": "2025-03-24T13:32:13.995863900Z"
    }
   },
   "outputs": [],
   "source": [
    "import numpy as np\n",
    "import polars as pl\n",
    "from sympy import *\n",
    "import scipy.interpolate as spi\n",
    "import matplotlib.pyplot as plt"
   ]
  },
  {
   "cell_type": "markdown",
   "source": [
    "The upper portion of this noble beast is to be approximated using natural cubic spline interpolants.\n",
    "\n",
    "The curve is drawn on a grid from which the table is constructed. Use algorithm to construct the three clamped cubic splines.\n",
    "\n",
    "Graph the derived piecewise function approximating the curve.\n",
    "\n",
    "We have three given values tables:"
   ],
   "metadata": {
    "collapsed": false
   },
   "id": "4585bd231783d4aa"
  },
  {
   "cell_type": "code",
   "execution_count": 2,
   "outputs": [],
   "source": [
    "x_vals_1 = [1 , 2, 5, 6, 7, 8, 10, 13, 17]\n",
    "y_vals_1 = [3, 3.7, 3.9, 4.2, 5.7, 6.6, 7.1, 6.7, 4.5]\n",
    "fprime_1 = [1, (-2/3)]\n",
    "\n",
    "table_1 = { \"x\": x_vals_1, \n",
    "            \"f(x)\": y_vals_1, \n",
    "            \"f'(x)\": [fprime_1[0]] + [None]*(len(x_vals_1)-2) + [fprime_1[1]] }\n",
    "\n",
    "x_vals_2 = [17, 20, 23, 24, 25, 27, 27.7]\n",
    "y_vals_2 = [4.5, 7, 6.1, 5.6, 5.8, 5.2, 4.1]\n",
    "fprime_2 = [3, -4]\n",
    "\n",
    "table_2 = { \"x\": x_vals_2, \n",
    "            \"f(x)\": y_vals_2, \n",
    "            \"f'(x)\": [fprime_2[0]] + [None]*(len(x_vals_2)-2) + [fprime_2[1]] }\n",
    "\n",
    "x_vals_3 = [27.7, 28, 29, 30]\n",
    "y_vals_3 = [4.1, 4.3, 4.1, 3]\n",
    "fprime_3 = [1/3, (-3/2)]\n",
    "table_3 = { \"x\": x_vals_3, \n",
    "            \"f(x)\": y_vals_3, \n",
    "            \"f'(x)\": [fprime_3[0]] + [None]*(len(x_vals_3)-2) + [fprime_3[1]] }\n",
    "\n",
    "combined_x_vals = x_vals_1 + x_vals_2 + x_vals_3\n",
    "combined_y_vals = y_vals_1 + y_vals_2 + y_vals_3"
   ],
   "metadata": {
    "collapsed": false,
    "ExecuteTime": {
     "end_time": "2025-03-24T13:32:16.356470700Z",
     "start_time": "2025-03-24T13:32:16.350584700Z"
    }
   },
   "id": "692de55ffcb942dd"
  },
  {
   "cell_type": "code",
   "execution_count": 3,
   "outputs": [
    {
     "name": "stdout",
     "output_type": "stream",
     "text": [
      "The first piecewise interpolation is:\n",
      "shape: (9, 3)\n",
      "┌─────┬──────┬───────────┐\n",
      "│ x   ┆ f(x) ┆ f'(x)     │\n",
      "│ --- ┆ ---  ┆ ---       │\n",
      "│ i64 ┆ f64  ┆ f64       │\n",
      "╞═════╪══════╪═══════════╡\n",
      "│ 1   ┆ 3.0  ┆ 1.0       │\n",
      "│ 2   ┆ 3.7  ┆ null      │\n",
      "│ 5   ┆ 3.9  ┆ null      │\n",
      "│ 6   ┆ 4.2  ┆ null      │\n",
      "│ 7   ┆ 5.7  ┆ null      │\n",
      "│ 8   ┆ 6.6  ┆ null      │\n",
      "│ 10  ┆ 7.1  ┆ null      │\n",
      "│ 13  ┆ 6.7  ┆ null      │\n",
      "│ 17  ┆ 4.5  ┆ -0.666667 │\n",
      "└─────┴──────┴───────────┘\n"
     ]
    }
   ],
   "source": [
    "print(\"The first piecewise interpolation is:\")\n",
    "print(pl.DataFrame(table_1, strict=False))"
   ],
   "metadata": {
    "collapsed": false,
    "ExecuteTime": {
     "end_time": "2025-03-24T13:32:16.387561700Z",
     "start_time": "2025-03-24T13:32:16.363525900Z"
    }
   },
   "id": "fcfcf93e240ae91d"
  },
  {
   "cell_type": "code",
   "execution_count": 4,
   "outputs": [
    {
     "name": "stdout",
     "output_type": "stream",
     "text": [
      "The second piecewise interpolation is:\n",
      "shape: (7, 3)\n",
      "┌──────┬──────┬───────┐\n",
      "│ x    ┆ f(x) ┆ f'(x) │\n",
      "│ ---  ┆ ---  ┆ ---   │\n",
      "│ f64  ┆ f64  ┆ i64   │\n",
      "╞══════╪══════╪═══════╡\n",
      "│ 17.0 ┆ 4.5  ┆ 3     │\n",
      "│ 20.0 ┆ 7.0  ┆ null  │\n",
      "│ 23.0 ┆ 6.1  ┆ null  │\n",
      "│ 24.0 ┆ 5.6  ┆ null  │\n",
      "│ 25.0 ┆ 5.8  ┆ null  │\n",
      "│ 27.0 ┆ 5.2  ┆ null  │\n",
      "│ 27.7 ┆ 4.1  ┆ -4    │\n",
      "└──────┴──────┴───────┘\n"
     ]
    }
   ],
   "source": [
    "print(\"The second piecewise interpolation is:\")\n",
    "print(pl.DataFrame(table_2, strict=False))"
   ],
   "metadata": {
    "collapsed": false,
    "ExecuteTime": {
     "end_time": "2025-03-24T13:32:16.402067500Z",
     "start_time": "2025-03-24T13:32:16.382975500Z"
    }
   },
   "id": "b2a2576376a39e45"
  },
  {
   "cell_type": "code",
   "execution_count": 5,
   "outputs": [
    {
     "name": "stdout",
     "output_type": "stream",
     "text": [
      "The third piecewise interpolation is:\n",
      "shape: (4, 3)\n",
      "┌──────┬──────┬──────────┐\n",
      "│ x    ┆ f(x) ┆ f'(x)    │\n",
      "│ ---  ┆ ---  ┆ ---      │\n",
      "│ f64  ┆ f64  ┆ f64      │\n",
      "╞══════╪══════╪══════════╡\n",
      "│ 27.7 ┆ 4.1  ┆ 0.333333 │\n",
      "│ 28.0 ┆ 4.3  ┆ null     │\n",
      "│ 29.0 ┆ 4.1  ┆ null     │\n",
      "│ 30.0 ┆ 3.0  ┆ -1.5     │\n",
      "└──────┴──────┴──────────┘\n"
     ]
    }
   ],
   "source": [
    "print(\"The third piecewise interpolation is:\")\n",
    "print(pl.DataFrame(table_3, strict=False))"
   ],
   "metadata": {
    "collapsed": false,
    "ExecuteTime": {
     "end_time": "2025-03-24T13:32:16.430004500Z",
     "start_time": "2025-03-24T13:32:16.412100600Z"
    }
   },
   "id": "83bc1002b3d9de9c"
  },
  {
   "cell_type": "code",
   "execution_count": 6,
   "outputs": [],
   "source": [
    "cs1 = spi.CubicSpline(x=x_vals_1, \n",
    "                     y=y_vals_1, \n",
    "                     bc_type=((1, fprime_1[0]), (1, fprime_1[1]))\n",
    "                     )\n",
    "\n",
    "cs2 = spi.CubicSpline(x=x_vals_2, \n",
    "                     y=y_vals_2, \n",
    "                     bc_type=((1, fprime_2[0]), (1, fprime_2[1]))\n",
    "                     )\n",
    "\n",
    "cs3 = spi.CubicSpline(x=x_vals_3, \n",
    "                     y=y_vals_3, \n",
    "                     bc_type=((1, fprime_3[0]), (1, fprime_3[1]))\n",
    "                     )"
   ],
   "metadata": {
    "collapsed": false,
    "ExecuteTime": {
     "end_time": "2025-03-24T13:32:16.511689500Z",
     "start_time": "2025-03-24T13:32:16.421467400Z"
    }
   },
   "id": "79392426e40ea1aa"
  },
  {
   "cell_type": "code",
   "execution_count": 7,
   "outputs": [
    {
     "name": "stdout",
     "output_type": "stream",
     "text": [
      "for the 1th spline:\n",
      "S_0(x) = 3.0 + 1.0000000000000002*(x - 1) + -0.34680986128021796*(x - 1)^2 + 0.04680986128021791*(x - 1)^3\n",
      "\n",
      "S_1(x) = 3.7 + 0.4468098612802181*(x - 2) + -0.20638027743956394*(x - 2)^2 + 0.026555293078348922*(x - 2)^3\n",
      "\n",
      "S_2(x) = 3.9 + -0.07447889024174467*(x - 5) + 0.03261736026557638*(x - 5)^2 + 0.3418615299761686*(x - 5)^3\n",
      "\n",
      "S_3(x) = 4.2 + 1.0163404202179138*(x - 6) + 1.0582019501940834*(x - 6)^2 + -0.5745423704119972*(x - 6)^3\n",
      "\n",
      "S_4(x) = 5.7 + 1.409117209370089*(x - 7) + -0.6654251610419077*(x - 7)^2 + 0.1563079516718182*(x - 7)^3\n",
      "\n",
      "S_5(x) = 6.6 + 0.5471907423017282*(x - 8) + -0.19650130602645327*(x - 8)^2 + 0.023952967437794598*(x - 8)^3\n",
      "\n",
      "S_6(x) = 7.1 + 0.048621127449450234*(x - 10) + -0.05278350139968573*(x - 10)^2 + -0.002622661842636246*(x - 10)^3\n",
      "\n",
      "S_7(x) = 6.7 + -0.3388917506998428*(x - 13) + -0.07638745798341195*(x - 13)^2 + 0.00590259891459316*(x - 13)^3\n",
      "\n",
      "for the 2th spline:\n",
      "S_0(x) = 4.5 + 3.0*(x - 17) + -1.1007084510629728*(x - 17)^2 + 0.12616207628025017*(x - 17)^3\n",
      "\n",
      "S_1(x) = 7.0 + -0.19787464681108177*(x - 20) + 0.03475023545927885*(x - 20)^2 + -0.022930673285194988*(x - 20)^3\n",
      "\n",
      "S_2(x) = 6.1 + -0.6085014127556733*(x - 23) + -0.17162582410747595*(x - 23)^2 + 0.2801272368631492*(x - 23)^3\n",
      "\n",
      "S_3(x) = 5.6 + -0.11137135038117751*(x - 24) + 0.6687558864819717*(x - 24)^2 + -0.357384536100794*(x - 24)^3\n",
      "\n",
      "S_4(x) = 5.8 + 0.15398681428038388*(x - 25) + -0.4033977218204103*(x - 25)^2 + 0.08820215734010922*(x - 25)^3\n",
      "\n",
      "S_5(x) = 5.2 + -0.40117818491994667*(x - 27) + 0.12581522222024577*(x - 27)^2 + -2.568002126658779*(x - 27)^3\n",
      "\n",
      "for the 3th spline:\n",
      "S_0(x) = 4.1 + 0.3333333333333333*(x - 27.7) + 2.244224422442234*(x - 27.7)^2 + -3.777044371103754*(x - 27.7)^3\n",
      "\n",
      "S_1(x) = 4.3 + 0.6600660066006585*(x - 28) + -1.1551155115511533*(x - 28)^2 + 0.29504950495049453*(x - 28)^3\n",
      "\n",
      "S_2(x) = 4.1 + -0.7650165016501643*(x - 29) + -0.2699669966996704*(x - 29)^2 + -0.06501650165016493*(x - 29)^3\n"
     ]
    }
   ],
   "source": [
    "for idx, (p, v) in enumerate([(cs1, x_vals_1), (cs2, x_vals_2), (cs3, x_vals_3)]):\n",
    "    a = p.c[3, :]  \n",
    "    b = p.c[2, :]  \n",
    "    c = p.c[1, :]  \n",
    "    d = p.c[0, :]  \n",
    "    \n",
    "    print(f\"for the {idx+1}th spline:\")\n",
    "    for i in range(len(v) - 1):\n",
    "        print(f\"S_{i}(x) = {a[i]} + {b[i]}*(x - {v[i]}) + {c[i]}*(x - {v[i]})^2 + {d[i]}*(x - {v[i]})^3\")\n",
    "        print(\"\")"
   ],
   "metadata": {
    "collapsed": false,
    "ExecuteTime": {
     "end_time": "2025-03-24T13:32:16.513703100Z",
     "start_time": "2025-03-24T13:32:16.451370300Z"
    }
   },
   "id": "136cac908767d3c6"
  },
  {
   "cell_type": "code",
   "execution_count": 8,
   "outputs": [],
   "source": [
    "x_sample_values_1 = np.arange(1, 17, 0.1)\n",
    "cs1_sample_vals = cs1(x_sample_values_1)\n",
    "\n",
    "x_sample_values_2 = np.arange(17, 27.7, 0.1)\n",
    "cs2_sample_vals = cs2(x_sample_values_2)\n",
    "\n",
    "x_sample_values_3 = np.arange(27.7, 30, 0.1)\n",
    "cs3_sample_vals = cs3(x_sample_values_3)\n",
    "\n",
    "x_vals_plot = np.arange(1, 30.1, 0.1)\n",
    "cs_vals = np.concatenate((cs1_sample_vals, cs2_sample_vals, cs3_sample_vals))"
   ],
   "metadata": {
    "collapsed": false,
    "ExecuteTime": {
     "end_time": "2025-03-24T13:32:16.531398300Z",
     "start_time": "2025-03-24T13:32:16.469963500Z"
    }
   },
   "id": "41d250c5f74aca91"
  },
  {
   "cell_type": "code",
   "execution_count": 9,
   "outputs": [
    {
     "data": {
      "text/plain": "<Figure size 1200x500 with 1 Axes>",
      "image/png": "[encoded data removed]"
     },
     "metadata": {},
     "output_type": "display_data"
    }
   ],
   "source": [
    "fig, ax = plt.subplots(figsize=(12, 5))\n",
    "ax.plot(combined_x_vals, combined_y_vals, 'o', label='data')\n",
    "ax.plot(x_vals_plot, cs_vals, label=\"S\")\n",
    "ax.set_xlim(0, 30.1)\n",
    "ax.set_ylim(0, 10)\n",
    "ax.legend(loc='lower right')\n",
    "plt.show()"
   ],
   "metadata": {
    "collapsed": false,
    "ExecuteTime": {
     "end_time": "2025-03-24T13:32:16.765542700Z",
     "start_time": "2025-03-24T13:32:16.491185400Z"
    }
   },
   "id": "903f1becc2ee65b5"
  }
 ],
 "metadata": {
  "kernelspec": {
   "display_name": "Python 3",
   "language": "python",
   "name": "python3"
  },
  "language_info": {
   "codemirror_mode": {
    "name": "ipython",
    "version": 2
   },
   "file_extension": ".py",
   "mimetype": "text/x-python",
   "name": "python",
   "nbconvert_exporter": "python",
   "pygments_lexer": "ipython2",
   "version": "2.7.6"
  }
 },
 "nbformat": 4,
 "nbformat_minor": 5
}
