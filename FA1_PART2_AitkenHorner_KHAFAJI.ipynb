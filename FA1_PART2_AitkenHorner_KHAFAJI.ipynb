{
 "cells": [
  {
   "cell_type": "markdown",
   "source": [
    "## 1. Use Newton's Method and Aitken's Method to approximate the zero of f(x) = cos(x) with $p_0 = 0.5$.\n",
    "\n",
    " "
   ],
   "metadata": {
    "collapsed": false
   },
   "id": "daf07f9e1ae0ced4"
  },
  {
   "cell_type": "code",
   "execution_count": 1,
   "outputs": [],
   "source": [
    "import numpy as np"
   ],
   "metadata": {
    "collapsed": false,
    "ExecuteTime": {
     "end_time": "2025-02-21T15:32:39.496288200Z",
     "start_time": "2025-02-21T15:32:39.316168Z"
    }
   },
   "id": "bdf278afe1c3d385"
  },
  {
   "cell_type": "code",
   "execution_count": 2,
   "outputs": [],
   "source": [
    "def newton_cos(p0):\n",
    "    \n",
    "    ps = [p0]\n",
    "    \n",
    "    while len(ps) < 3:\n",
    "        new_p = ps[len(ps)-1] + (np.cos(ps[len(ps)-1])/np.sin(ps[len(ps)-1]))\n",
    "        ps.append(new_p)\n",
    "        \n",
    "    return aitken(ps)\n",
    "        \n",
    "    \n",
    "def aitken(p_list):\n",
    "    \n",
    "    pn = p_list[0]\n",
    "    numerator = ((p_list[1] - p_list[0])**2)\n",
    "    denominator = (p_list[2]-(2*p_list[1]) +p_list[0])\n",
    "    p_hat = pn - numerator / denominator\n",
    "    \n",
    "    return p_hat\n",
    "\n",
    "def approximate(p0):\n",
    "    \n",
    "    p_list = [p0]\n",
    "    \n",
    "    if len(p_list) == 1:\n",
    "        p_list.append(newton_cos(p_list[len(p_list)-1]))\n",
    "        \n",
    "    while abs( p_list[len(p_list) -1] - p_list[len(p_list) -2] ) >= 1e-5:\n",
    "        p_list.append(newton_cos(p_list[len(p_list)-1]))\n",
    "        \n",
    "    return p_list[len(p_list)-1]"
   ],
   "metadata": {
    "collapsed": false,
    "ExecuteTime": {
     "end_time": "2025-02-21T15:32:39.505943700Z",
     "start_time": "2025-02-21T15:32:39.504903Z"
    }
   },
   "id": "67f7121c1538d469"
  },
  {
   "cell_type": "code",
   "execution_count": 3,
   "outputs": [
    {
     "name": "stdout",
     "output_type": "stream",
     "text": [
      "The approximation of the zero of cosx using newton's method and aitken's method, accurate to the 10^-5, yields x =  1.5707963267948966\n"
     ]
    }
   ],
   "source": [
    "approx = approximate(0.5)\n",
    "\n",
    "print(\"The approximation of the zero of cosx using newton's method and aitken's method, accurate to the 10^-5, yields x = \", approx)"
   ],
   "metadata": {
    "collapsed": false,
    "ExecuteTime": {
     "end_time": "2025-02-21T15:32:39.518619800Z",
     "start_time": "2025-02-21T15:32:39.510852400Z"
    }
   },
   "id": "1a1b429f40148931"
  },
  {
   "cell_type": "markdown",
   "source": [
    "## 2. Find approximations to within $10^{-5}$ to all zeroes of $f(x) = x^4 + 5x^3 - 9x^2 - 85x -136$ by finding real zeroes using Newton's with Horner's method, then reducing to a polynomial of lower degree to determine the complex zeroes."
   ],
   "metadata": {
    "collapsed": false
   },
   "id": "fb061fce7e348b22"
  },
  {
   "cell_type": "code",
   "execution_count": 4,
   "outputs": [],
   "source": [
    "from numpy.polynomial import polynomial as npoly"
   ],
   "metadata": {
    "collapsed": false,
    "ExecuteTime": {
     "end_time": "2025-02-21T15:32:39.566150600Z",
     "start_time": "2025-02-21T15:32:39.518619800Z"
    }
   },
   "id": "e65fccfd8b4d4017"
  },
  {
   "cell_type": "code",
   "execution_count": 5,
   "outputs": [],
   "source": [
    "def newton_w_horner(p0, polynomial):\n",
    "    \n",
    "    p = [p0]\n",
    "    \n",
    "    horn_coef_f, horn_quot_f = horner(p0, polynomial)\n",
    "    horn_coef_fp, horn_quot_fp = horner(p0, horn_coef_f) \n",
    "        \n",
    "    newton_p = p0 - horn_quot_f/horn_quot_fp\n",
    "        \n",
    "    p.append(newton_p)\n",
    "\n",
    "    while abs(p[-1] - p[-2]) >= 1e-5:\n",
    "        \n",
    "        horn_coef_f, horn_quot_f = horner(p[-1], polynomial)\n",
    "        horn_coef_fp, horn_quot_fp = horner(p[-1], horn_coef_f) \n",
    "        \n",
    "        newton_p = p[-1] - horn_quot_f/horn_quot_fp\n",
    "        \n",
    "        p.append(newton_p)\n",
    "        \n",
    "    return p, horn_coef_f\n",
    "        \n",
    "    \n",
    "def horner(p0, polynomial):\n",
    "    \n",
    "    polynomial = np.array(polynomial)  \n",
    "    divisor = np.array([-p0, 1])  \n",
    "    quotient, remainder = npoly.polydiv(polynomial, divisor)\n",
    "    return quotient, remainder[-1]\n",
    "    \n",
    "    \n",
    "\n"
   ],
   "metadata": {
    "collapsed": false,
    "ExecuteTime": {
     "end_time": "2025-02-21T15:32:39.581809600Z",
     "start_time": "2025-02-21T15:32:39.525217100Z"
    }
   },
   "id": "f97248c059d07b7f"
  },
  {
   "cell_type": "code",
   "execution_count": 6,
   "outputs": [
    {
     "name": "stdout",
     "output_type": "stream",
     "text": [
      "root found with p0 = 1, using newton and Horner's method:\n",
      " -4.123105625617661\n",
      "\n",
      "Remaining coefficients of polynomials after reduction:\n",
      " [-32.98484501 -12.61552811   0.87689437   1.        ]\n",
      "\n",
      "remaining real roots:\n",
      " [(4.123105626216223+0j)]\n",
      "\n",
      "remaining complex roots:\n",
      " [(-2.4999999971856055-1.3228756608510046j), (-2.4999999971856055+1.3228756608510046j)]\n"
     ]
    }
   ],
   "source": [
    "poly_list = np.array([-136, -85, -9, 5, 1])\n",
    "\n",
    "p_list, new_poly = newton_w_horner(1, poly_list)\n",
    "\n",
    "roots = npoly.Polynomial(coef=new_poly).roots()\n",
    "\n",
    "print(\"root found with p0 = 1, using newton and Horner's method:\\n\", p_list[-1], end=\"\\n\\n\")\n",
    "print(\"Remaining coefficients of polynomials after reduction:\\n\", new_poly, end=\"\\n\\n\")\n",
    "print(\"remaining real roots:\\n\", [root for root in roots if np.isreal(root)],end=\"\\n\\n\")\n",
    "print(\"remaining complex roots:\\n\", [root for root in roots if not np.isreal(root)], end=\"\\n\\n\")\n"
   ],
   "metadata": {
    "collapsed": false,
    "ExecuteTime": {
     "end_time": "2025-02-21T15:32:39.581809600Z",
     "start_time": "2025-02-21T15:32:39.536606400Z"
    }
   },
   "id": "3255bacc1841699b"
  },
  {
   "cell_type": "code",
   "execution_count": 6,
   "outputs": [],
   "source": [],
   "metadata": {
    "collapsed": false,
    "ExecuteTime": {
     "end_time": "2025-02-21T15:32:39.581809600Z",
     "start_time": "2025-02-21T15:32:39.549592600Z"
    }
   },
   "id": "de51c3fd8a987105"
  }
 ],
 "metadata": {
  "kernelspec": {
   "display_name": "Python 3",
   "language": "python",
   "name": "python3"
  },
  "language_info": {
   "codemirror_mode": {
    "name": "ipython",
    "version": 2
   },
   "file_extension": ".py",
   "mimetype": "text/x-python",
   "name": "python",
   "nbconvert_exporter": "python",
   "pygments_lexer": "ipython2",
   "version": "2.7.6"
  }
 },
 "nbformat": 4,
 "nbformat_minor": 5
}
