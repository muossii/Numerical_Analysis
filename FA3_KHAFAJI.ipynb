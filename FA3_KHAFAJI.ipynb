{
 "cells": [
  {
   "cell_type": "code",
   "execution_count": 1,
   "outputs": [],
   "source": [
    "from sympy import *\n",
    "import numpy as np\n",
    "import polars as pl"
   ],
   "metadata": {
    "collapsed": false,
    "ExecuteTime": {
     "end_time": "2025-03-10T14:39:02.292876Z",
     "start_time": "2025-03-10T14:39:00.978290400Z"
    }
   },
   "id": "a02b8b90dcaa2d16"
  },
  {
   "cell_type": "markdown",
   "source": [
    "### 1. "
   ],
   "metadata": {
    "collapsed": false
   },
   "id": "d9d7f31888ed2991"
  },
  {
   "cell_type": "code",
   "execution_count": 2,
   "outputs": [],
   "source": [
    "x = symbols('x')\n",
    "h= 0.1\n",
    "x_list = [2.9, 3, 3.1, 3.2]\n",
    "fx_list = [-4.827866, -4.240058, -3.496909, -2.596792]\n",
    "\n"
   ],
   "metadata": {
    "collapsed": false,
    "ExecuteTime": {
     "end_time": "2025-03-10T14:39:02.302003800Z",
     "start_time": "2025-03-10T14:39:02.296970700Z"
    }
   },
   "id": "c133d91c22f03e3c"
  },
  {
   "cell_type": "code",
   "execution_count": 3,
   "outputs": [],
   "source": [
    "def three_point(x_vals, fx_vals, h):\n",
    "    \n",
    "    f_prime_vals = []\n",
    "    for idx, fval in enumerate(fx_vals):\n",
    "        if idx == 0:\n",
    "            x_plus_h_idx = x_vals.index(x_vals[idx] + h)\n",
    "            x_plus_2h_idx = x_vals.index(x_vals[idx] + 2*h)\n",
    "            fx_plus_h = fx_vals[x_plus_h_idx]\n",
    "            fx_plus_2h = fx_vals[x_plus_2h_idx]\n",
    "            \n",
    "            f_prime = (1/(2*h))*(-3*fval +4*fx_plus_h-fx_plus_2h) # left approx\n",
    "            f_prime_vals.append(f_prime)\n",
    "            \n",
    "        elif idx == len(fx_vals)-1:\n",
    "            x_minus_h_idx = x_vals.index(x_vals[idx] - h)\n",
    "            x_minus_2h_idx = x_vals.index(x_vals[idx] - 2*h)\n",
    "            fx_minus_h = fx_vals[x_minus_h_idx]\n",
    "            fx_minus_2h = fx_vals[x_minus_2h_idx]\n",
    "            \n",
    "            f_prime = (1/(2*h))*(3*fval -4*fx_minus_h +fx_minus_2h) # right approx\n",
    "            f_prime_vals.append(f_prime)\n",
    "        \n",
    "        else:\n",
    "            x_plus_h_idx = x_vals.index(x_vals[idx] + h)\n",
    "            x_minus_h_idx = x_vals.index(x_vals[idx] - h)\n",
    "            fx_plus_h = fx_vals[x_plus_h_idx]\n",
    "            fx_minus_h = fx_vals[x_minus_h_idx]\n",
    "            \n",
    "            f_prime = (1/(2*h))*(-fx_minus_h+fx_plus_h) #midpoint\n",
    "            f_prime_vals.append(f_prime)\n",
    "    \n",
    "    return f_prime_vals\n",
    "        \n"
   ],
   "metadata": {
    "collapsed": false,
    "ExecuteTime": {
     "end_time": "2025-03-10T14:39:02.341340100Z",
     "start_time": "2025-03-10T14:39:02.310190300Z"
    }
   },
   "id": "initial_id"
  },
  {
   "cell_type": "code",
   "execution_count": 4,
   "outputs": [],
   "source": [
    "fprime_x_list = three_point(x_list, fx_list,h)\n",
    "data = {\n",
    "    \"x\":x_list,\n",
    "    \"fx\":fx_list,\n",
    "    \"fprime_x\":fprime_x_list\n",
    "}\n",
    "\n"
   ],
   "metadata": {
    "collapsed": false,
    "ExecuteTime": {
     "end_time": "2025-03-10T14:39:02.341340100Z",
     "start_time": "2025-03-10T14:39:02.321082900Z"
    }
   },
   "id": "2eb38df14af888c4"
  },
  {
   "cell_type": "code",
   "execution_count": 5,
   "outputs": [
    {
     "data": {
      "text/plain": "shape: (4, 3)\n┌─────┬───────────┬──────────┐\n│ x   ┆ fx        ┆ fprime_x │\n│ --- ┆ ---       ┆ ---      │\n│ f64 ┆ f64       ┆ f64      │\n╞═════╪═══════════╪══════════╡\n│ 2.9 ┆ -4.827866 ┆ 5.101375 │\n│ 3.0 ┆ -4.240058 ┆ 6.654785 │\n│ 3.1 ┆ -3.496909 ┆ 8.21633  │\n│ 3.2 ┆ -2.596792 ┆ 9.78601  │\n└─────┴───────────┴──────────┘",
      "text/html": "<div><style>\n.dataframe > thead > tr,\n.dataframe > tbody > tr {\n  text-align: right;\n  white-space: pre-wrap;\n}\n</style>\n<small>shape: (4, 3)</small><table border=\"1\" class=\"dataframe\"><thead><tr><th>x</th><th>fx</th><th>fprime_x</th></tr><tr><td>f64</td><td>f64</td><td>f64</td></tr></thead><tbody><tr><td>2.9</td><td>-4.827866</td><td>5.101375</td></tr><tr><td>3.0</td><td>-4.240058</td><td>6.654785</td></tr><tr><td>3.1</td><td>-3.496909</td><td>8.21633</td></tr><tr><td>3.2</td><td>-2.596792</td><td>9.78601</td></tr></tbody></table></div>"
     },
     "execution_count": 5,
     "metadata": {},
     "output_type": "execute_result"
    }
   ],
   "source": [
    "df = pl.DataFrame(data)\n",
    "df"
   ],
   "metadata": {
    "collapsed": false,
    "ExecuteTime": {
     "end_time": "2025-03-10T14:39:02.363138400Z",
     "start_time": "2025-03-10T14:39:02.330962200Z"
    }
   },
   "id": "6a82c1583f5497e7"
  },
  {
   "cell_type": "markdown",
   "source": [
    "### 2."
   ],
   "metadata": {
    "collapsed": false
   },
   "id": "49c3fc2a3e61d0e3"
  },
  {
   "cell_type": "code",
   "execution_count": 6,
   "outputs": [
    {
     "name": "stdout",
     "output_type": "stream",
     "text": [
      "[2.1, 2.2, 2.3, 2.4, 2.5]\n"
     ]
    }
   ],
   "source": [
    "x = symbols('x')\n",
    "fx_2 = tan(x)\n",
    "h = 0.1\n",
    "nodes = [ 2+0.1*n for n in range(1,6)]\n",
    "print(nodes)"
   ],
   "metadata": {
    "collapsed": false,
    "ExecuteTime": {
     "end_time": "2025-03-10T14:39:02.372959400Z",
     "start_time": "2025-03-10T14:39:02.353098600Z"
    }
   },
   "id": "c0fc0243358ea53a"
  },
  {
   "cell_type": "code",
   "execution_count": 7,
   "outputs": [
    {
     "name": "stdout",
     "output_type": "stream",
     "text": [
      "the absolute maximum error is 0.000114034352711179\n"
     ]
    }
   ],
   "source": [
    "fx_2_5prime = simplify(diff(fx_2, x, 4))\n",
    "\n",
    "max_in_interval = maximum(fx_2_5prime, x, Interval(2.1,2.5))\n",
    "\n",
    "error = (max_in_interval)*(h**4)/30\n",
    "\n",
    "print(f\"the absolute maximum error is {abs(error)}\")"
   ],
   "metadata": {
    "collapsed": false,
    "ExecuteTime": {
     "end_time": "2025-03-10T14:39:03.869013400Z",
     "start_time": "2025-03-10T14:39:02.366135300Z"
    }
   },
   "id": "84a5b05da090ead0"
  },
  {
   "cell_type": "markdown",
   "source": [
    "### 3."
   ],
   "metadata": {
    "collapsed": false
   },
   "id": "58af8745e3320689"
  },
  {
   "cell_type": "code",
   "execution_count": 8,
   "outputs": [
    {
     "name": "stdout",
     "output_type": "stream",
     "text": [
      "The approximate derivative of f(1.3) is 36.5\n"
     ]
    }
   ],
   "source": [
    "x_list_3 = [1.28, 1.29, 1.3, 1.31, 1.4]\n",
    "y_list_3 = [11.59006, 13.78176, 14.04276, 14.30741, 16.86187]\n",
    "h=0.01\n",
    "\n",
    "approx_3 = (y_list_3[1]-2*y_list_3[2]+y_list_3[3])/(h**2)\n",
    "\n",
    "print(f\"The approximate derivative of f(1.3) is {round(approx_3,10)}\")"
   ],
   "metadata": {
    "collapsed": false,
    "ExecuteTime": {
     "end_time": "2025-03-10T14:39:03.879270400Z",
     "start_time": "2025-03-10T14:39:03.875173200Z"
    }
   },
   "id": "17c979df096e3c2e"
  },
  {
   "cell_type": "markdown",
   "source": [
    "### 4. \n",
    "getting $N_3(h)$, an approximation to $f'(x_0)$ for $f(x) = x+e^x$, with h=0.4"
   ],
   "metadata": {
    "collapsed": false
   },
   "id": "995e5f88ab54b02a"
  },
  {
   "cell_type": "code",
   "execution_count": 9,
   "outputs": [
    {
     "name": "stdout",
     "output_type": "stream",
     "text": [
      "The approximation to the derivative of the given function at x_0 = 0 is 2.00000001273551\n"
     ]
    }
   ],
   "source": [
    "x = symbols('x')\n",
    "x_list_4 = [-0.4, 0, 0.4]\n",
    "f_3 = x + E**(x)\n",
    "h= 0.4\n",
    "\n",
    "n1_h = (1/(2*h))*(-f_3.subs(x,-0.4)+f_3.subs(x,0.4)) #midpoint\n",
    "\n",
    "n1_hdiv2 = (1/(2*(h/2)))*(-f_3.subs(x,-0.2)+f_3.subs(x,0.2))\n",
    "\n",
    "n1_hdiv4 = (1/(2*(h/4)))*(-f_3.subs(x,-0.1)+f_3.subs(x,0.1))\n",
    "\n",
    "n2_h = (1/3)*(4*n1_hdiv2 - n1_h)\n",
    "\n",
    "n2_hdiv2 = (1/3)*(4*n1_hdiv4 - n1_hdiv2)\n",
    "\n",
    "n3_h = (1/15)*(16*n2_hdiv2-n2_h)\n",
    "\n",
    "print(f\"The approximation to the derivative of the given function at x_0 = 0 is {n3_h}\")"
   ],
   "metadata": {
    "collapsed": false,
    "ExecuteTime": {
     "end_time": "2025-03-10T14:39:03.905001300Z",
     "start_time": "2025-03-10T14:39:03.881272400Z"
    }
   },
   "id": "b65908ad80cb4532"
  },
  {
   "cell_type": "markdown",
   "source": [
    "### 5.\n",
    "\n",
    "approximate \n",
    "$$\\int_0^{\\frac{\\pi}{4}}x sin(x)\\,dx$$ \n",
    "using the Trapezoidal rule"
   ],
   "metadata": {
    "collapsed": false
   },
   "id": "2c882957fc0aa82"
  },
  {
   "cell_type": "code",
   "execution_count": 10,
   "outputs": [
    {
     "name": "stdout",
     "output_type": "stream",
     "text": [
      "The approximation of the integral using the trapezoidal rule is: sqrt(2)*pi**2/64, which is approximately 0.2180895062\n"
     ]
    },
    {
     "data": {
      "text/plain": "sqrt(2)*pi**2/64",
      "text/latex": "$\\displaystyle \\frac{\\sqrt{2} \\pi^{2}}{64}$"
     },
     "execution_count": 10,
     "metadata": {},
     "output_type": "execute_result"
    }
   ],
   "source": [
    "x = symbols('x')\n",
    "f_5 = x*sin(x)\n",
    "\n",
    "x_max_5 = (pi/4)\n",
    "x_min_5 = 0\n",
    "h_5 = x_max_5 - x_min_5\n",
    "approx_5 = ( h_5/2) *(f_5.subs(x,x_max_5)+f_5.subs(x,x_min_5))\n",
    "\n",
    "approx_5 = simplify(approx_5)\n",
    "\n",
    "print(f\"The approximation of the integral using the trapezoidal rule is: {approx_5}, which is approximately 0.2180895062\")\n",
    "approx_5"
   ],
   "metadata": {
    "collapsed": false,
    "ExecuteTime": {
     "end_time": "2025-03-10T14:39:04.000680500Z",
     "start_time": "2025-03-10T14:39:03.902996700Z"
    }
   },
   "id": "b960978f87b00ede"
  },
  {
   "cell_type": "markdown",
   "source": [
    "### 6.\n",
    "\n",
    "approximate \n",
    "$$\\int_0^{\\frac{\\pi}{4}}x sin(x)\\,dx$$ \n",
    "using the Simpson's rule"
   ],
   "metadata": {
    "collapsed": false
   },
   "id": "3a3a794852fde400"
  },
  {
   "cell_type": "code",
   "execution_count": 11,
   "outputs": [
    {
     "name": "stdout",
     "output_type": "stream",
     "text": [
      "The Simpson's Approximate of the Polynomial is: pi*(0.0166666666666667*sqrt(2) + 0.0333333333333333*sqrt(2 - sqrt(2))), which is approximately 0.1513826289\n"
     ]
    },
    {
     "data": {
      "text/plain": "pi*(0.0166666666666667*sqrt(2) + 0.0333333333333333*sqrt(2 - sqrt(2)))",
      "text/latex": "$\\displaystyle \\pi \\left(0.0166666666666667 \\sqrt{2} + 0.0333333333333333 \\sqrt{2 - \\sqrt{2}}\\right)$"
     },
     "execution_count": 11,
     "metadata": {},
     "output_type": "execute_result"
    }
   ],
   "source": [
    "a = 0\n",
    "b = pi/4\n",
    "h_6 = (b-a)/2\n",
    "x_mid_6 = a+h_6\n",
    "\n",
    "x = symbols('x')\n",
    "f_6 = x * sin(x)\n",
    "\n",
    "simpsons_approx_6 = (h/3) * (\n",
    "        f_6.subs(x,a) + 4*f_6.subs(x, x_mid_6) + f_6.subs(x, b) \n",
    ")\n",
    "\n",
    "simpsons_approx_6 = simplify(simpsons_approx_6)\n",
    "\n",
    "print(f\"The Simpson's Approximate of the Polynomial is: {simpsons_approx_6}, which is approximately 0.1513826289\")\n",
    "\n",
    "simpsons_approx_6"
   ],
   "metadata": {
    "collapsed": false,
    "ExecuteTime": {
     "end_time": "2025-03-10T14:39:04.039102400Z",
     "start_time": "2025-03-10T14:39:03.963681800Z"
    }
   },
   "id": "89a0abee725cc782"
  },
  {
   "cell_type": "markdown",
   "source": [
    "### 7.\n",
    "\n",
    "Give the errors for 5 and 6\n",
    "\n",
    "for 5. the error is given by $\\frac{h^3}{12}f^{''}(\\xi)$\n",
    "\n",
    "for 6. the error is given by $\\frac{h^5}{90}f^{(4)}(\\xi)$"
   ],
   "metadata": {
    "collapsed": false
   },
   "id": "df11fa84b7edd726"
  },
  {
   "cell_type": "code",
   "execution_count": 12,
   "outputs": [
    {
     "name": "stdout",
     "output_type": "stream",
     "text": [
      "The 2nd derivative of the given function is: -x*sin(x) + 2*cos(x)\n",
      "Since x is small in the domain, and the range of both sinx and cosx in the domain are from 0 to 0.785, the function will yield the highest value in the interval at f''(0)\n",
      "The absolute maximum error for number 5 is pi**3/384\n"
     ]
    },
    {
     "data": {
      "text/plain": "pi**3/384",
      "text/latex": "$\\displaystyle \\frac{\\pi^{3}}{384}$"
     },
     "execution_count": 12,
     "metadata": {},
     "output_type": "execute_result"
    }
   ],
   "source": [
    "# solving for error for number 5\n",
    "\n",
    "f_2ndprime_7 = diff(f_5, x, 2)\n",
    "\n",
    "print(f\"The 2nd derivative of the given function is: {f_2ndprime_7}\")\n",
    "\n",
    "print(\"Since x is small in the domain, and the range of both sinx and cosx in the domain are from 0 to 0.785, the function will yield the highest value in the interval at f''(0)\")\n",
    "\n",
    "error_trap_7 =  ((h_5**3)/12) * f_2ndprime_7.subs(x, 0)\n",
    "\n",
    "error_trap_7 = simplify(error_trap_7)\n",
    "\n",
    "print(f\"The absolute maximum error for number 5 is {abs(error_trap_7)}\")\n",
    "abs(error_trap_7)"
   ],
   "metadata": {
    "collapsed": false,
    "ExecuteTime": {
     "end_time": "2025-03-10T14:39:04.061481700Z",
     "start_time": "2025-03-10T14:39:04.012676400Z"
    }
   },
   "id": "5860c064fb99248b"
  },
  {
   "cell_type": "code",
   "execution_count": 13,
   "outputs": [
    {
     "name": "stdout",
     "output_type": "stream",
     "text": [
      "The 4th derivative of the given function is: -x*sin(x) + 2*cos(x)\n",
      "Since x is small in the domain, and the range of both sinx and cosx in the domain are from 0 to 0.785, the function will yield the highest value in the interval at f''(0)\n",
      "The absolute maximum error for number 5 is pi**5/737280\n"
     ]
    },
    {
     "data": {
      "text/plain": "pi**5/737280",
      "text/latex": "$\\displaystyle \\frac{\\pi^{5}}{737280}$"
     },
     "execution_count": 13,
     "metadata": {},
     "output_type": "execute_result"
    }
   ],
   "source": [
    "# solving for error in number 6\n",
    "\n",
    "f_4thprime_7 = diff(f_6, x, 4)\n",
    "\n",
    "print(f\"The 4th derivative of the given function is: {f_2ndprime_7}\")\n",
    "\n",
    "print(\"Since x is small in the domain, and the range of both sinx and cosx in the domain are from 0 to 0.785, the function will yield the highest value in the interval at f''(0)\")\n",
    "\n",
    "error_simp_7 =  ((h_6**5)/90) * f_4thprime_7.subs(x, 0)\n",
    "\n",
    "error_simp_7 = simplify(error_simp_7)\n",
    "\n",
    "print(f\"The absolute maximum error for number 5 is {abs(error_simp_7)}\")\n",
    "abs(error_simp_7)"
   ],
   "metadata": {
    "collapsed": false,
    "ExecuteTime": {
     "end_time": "2025-03-10T14:39:04.145858400Z",
     "start_time": "2025-03-10T14:39:04.056859400Z"
    }
   },
   "id": "c49482d80989c556"
  },
  {
   "cell_type": "markdown",
   "source": [
    "### 8. \n",
    "approximate $\\int_1^10 \\frac{1}{x} \\, dx$ using Closed and Open Newton-Cotes formula for n=3, Are the accuracies consistent with the error formulas?"
   ],
   "metadata": {
    "collapsed": false
   },
   "id": "7bb6cc7e17d644f0"
  },
  {
   "cell_type": "code",
   "execution_count": 14,
   "outputs": [
    {
     "name": "stdout",
     "output_type": "stream",
     "text": [
      "The approximated integral using the Closed Newton-Cotes formula is 2.56339285714286\n"
     ]
    }
   ],
   "source": [
    "# closed newton cotes\n",
    "x = symbols('x')\n",
    "\n",
    "f_8 = 1/x\n",
    "n=3\n",
    "a_8 = 1\n",
    "b_8 = 10\n",
    "h_8 = (10-1)/n\n",
    "\n",
    "x1_8_closed = a_8 + h_8\n",
    "x2_8_closed = a_8 +2*h_8\n",
    "\n",
    "approx_closed_8 = ((3*h_8)/8)*(\n",
    "    f_8.subs(x, a_8) \n",
    "    + 3*f_8.subs(x, x1_8_closed)\n",
    "    + 3 *f_8.subs(x, x2_8_closed)\n",
    "    + f_8.subs(x, b_8)\n",
    ")\n",
    "\n",
    "approx_closed_8 = simplify(approx_closed_8)\n",
    "\n",
    "print(f\"The approximated integral using the Closed Newton-Cotes formula is {approx_closed_8}\")"
   ],
   "metadata": {
    "collapsed": false,
    "ExecuteTime": {
     "end_time": "2025-03-10T14:39:04.189171500Z",
     "start_time": "2025-03-10T14:39:04.067627400Z"
    }
   },
   "id": "b81f9df7a711a05f"
  },
  {
   "cell_type": "code",
   "execution_count": 15,
   "outputs": [
    {
     "name": "stdout",
     "output_type": "stream",
     "text": [
      "The approximated integral using the Open Newton-Cotes formula is 2.11637855533253\n"
     ]
    }
   ],
   "source": [
    "h_8_open = (b_8 - a_8)/(n+2)\n",
    "\n",
    "x_vals_8 = [ 1 + h_8_open*p for p in range(1,5)]\n",
    "\n",
    "\n",
    "approx_open_8 = ((5*h_8_open)/24)*(\n",
    "    11* f_8.subs(x, x_vals_8[0]) \n",
    "    + f_8.subs(x, x_vals_8[1])\n",
    "    + f_8.subs(x, x_vals_8[2])\n",
    "    + 11*f_8.subs(x, x_vals_8[3])\n",
    ")\n",
    "\n",
    "approx_open_8 = simplify(approx_open_8)\n",
    "\n",
    "print(f\"The approximated integral using the Open Newton-Cotes formula is {approx_open_8}\")"
   ],
   "metadata": {
    "collapsed": false,
    "ExecuteTime": {
     "end_time": "2025-03-10T14:39:04.190174800Z",
     "start_time": "2025-03-10T14:39:04.084739400Z"
    }
   },
   "id": "537ac84ac822224e"
  },
  {
   "cell_type": "code",
   "execution_count": 16,
   "outputs": [
    {
     "name": "stdout",
     "output_type": "stream",
     "text": [
      "The indefinite integral is log(x), which is the natural logarithm\n",
      "The evaluated integral results to: log(10), which is approximately equal to 2.302585093\n"
     ]
    }
   ],
   "source": [
    "# getting the actual integral\n",
    "\n",
    "# getting the indefinite integral:\n",
    "integral_8 = integrate(f_8, x)\n",
    "\n",
    "print(f\"The indefinite integral is {integral_8}, which is the natural logarithm\")\n",
    "\n",
    "\n",
    "# evaluating the integral:\n",
    "integral_evaluated_8 = integral_8.subs(x, b_8) - integral_8.subs(x, a_8)\n",
    "integral_evaluated_8 = simplify(integral_evaluated_8)\n",
    "print(f\"The evaluated integral results to: {integral_evaluated_8}, which is approximately equal to 2.302585093\")"
   ],
   "metadata": {
    "collapsed": false,
    "ExecuteTime": {
     "end_time": "2025-03-10T14:39:04.219289400Z",
     "start_time": "2025-03-10T14:39:04.092109Z"
    }
   },
   "id": "68446fdecab8b317"
  },
  {
   "cell_type": "code",
   "execution_count": 19,
   "outputs": [
    {
     "name": "stdout",
     "output_type": "stream",
     "text": [
      "the 4th prime of our function is 24/x**5. From the interval of [1,10], x=1 provides the maximum value, giving us f(x) = 24\n",
      "\n",
      "The absolute maximum error for the Closed Newton-Cotes formula is 218.7, while it is 299.1816 for the Open Newton-Cotes formula\n",
      "\n",
      "The error values we obtained are very big, which can be blamed on our huge intervals (3 for closed, 1.8 for open). Although our approximations are well within the error range, it is still worrying whether or not our approximations are approximations or wild guesses.\n"
     ]
    }
   ],
   "source": [
    "f_4thdiff_8 = diff(f_8, x, 4)\n",
    "\n",
    "print(f\"the 4th prime of our function is {f_4thdiff_8}. From the interval of [1,10], x=1 provides the maximum value, giving us f(x) = 24\")\n",
    "\n",
    "error_closed = ((3*(h_8**5))/80)*24\n",
    "error_open = (95/144)*(h_8_open**5)*24\n",
    "\n",
    "print(f\"\\nThe absolute maximum error for the Closed Newton-Cotes formula is {abs(round(error_closed,3))}, while it is {abs(error_open)} for the Open Newton-Cotes formula\")\n",
    "\n",
    "print(\"\\nThe error values we obtained are very big, which can be blamed on our huge intervals (3 for closed, 1.8 for open). Although our approximations are well within the error range, it is still worrying whether or not our approximations are approximations or wild guesses.\")"
   ],
   "metadata": {
    "collapsed": false,
    "ExecuteTime": {
     "end_time": "2025-03-10T14:39:52.193307800Z",
     "start_time": "2025-03-10T14:39:52.166877500Z"
    }
   },
   "id": "d56ec1e2d54f822d"
  },
  {
   "cell_type": "code",
   "execution_count": 17,
   "outputs": [],
   "source": [],
   "metadata": {
    "collapsed": false,
    "ExecuteTime": {
     "end_time": "2025-03-10T14:39:04.324458400Z",
     "start_time": "2025-03-10T14:39:04.178905600Z"
    }
   },
   "id": "28b27e8b5af624bb"
  }
 ],
 "metadata": {
  "kernelspec": {
   "display_name": "Python 3",
   "language": "python",
   "name": "python3"
  },
  "language_info": {
   "codemirror_mode": {
    "name": "ipython",
    "version": 2
   },
   "file_extension": ".py",
   "mimetype": "text/x-python",
   "name": "python",
   "nbconvert_exporter": "python",
   "pygments_lexer": "ipython2",
   "version": "2.7.6"
  }
 },
 "nbformat": 4,
 "nbformat_minor": 5
}
